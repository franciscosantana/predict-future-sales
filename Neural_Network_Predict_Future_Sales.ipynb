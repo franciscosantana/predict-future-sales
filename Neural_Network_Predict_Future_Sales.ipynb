{
 "cells": [
  {
   "cell_type": "markdown",
   "metadata": {
    "colab_type": "text",
    "id": "JO8bGW0DSmjN"
   },
   "source": [
    "# Predict Future Sales\n",
    "\n",
    "Problem: Determine the least loss for a predictive model of future sales.\n",
    "\n",
    "Reference: [Predict Future Sales](https://www.kaggle.com/c/competitive-data-science-predict-future-sales)\n",
    "\n",
    "\n",
    "College: FASAM\n",
    "\n",
    "Course: Postgraduate on Big Data and Machine Learning\n",
    "\n",
    "Subject: Neura Network\n",
    "\n",
    "Professor: Lucas Assis\n",
    "\n",
    "Team:\n",
    "\n",
    "\n",
    "*   Andryev Silva Lemes\n",
    "*   Francisco Rosa Santana\n"
   ]
  },
  {
   "cell_type": "markdown",
   "metadata": {
    "colab_type": "text",
    "id": "YIewYNO5W2dz"
   },
   "source": [
    "# Libraries"
   ]
  },
  {
   "cell_type": "code",
   "execution_count": 1,
   "metadata": {
    "colab": {
     "autoexec": {
      "startup": false,
      "wait_interval": 0
     },
     "base_uri": "https://localhost:8080/",
     "height": 34
    },
    "colab_type": "code",
    "executionInfo": {
     "elapsed": 16802,
     "status": "ok",
     "timestamp": 1533498393323,
     "user": {
      "displayName": "Francisco Rosa Santana",
      "photoUrl": "//lh5.googleusercontent.com/-bI8Rb32_1sU/AAAAAAAAAAI/AAAAAAAACVc/PNBc09a1AYk/s50-c-k-no/photo.jpg",
      "userId": "109858592376531758617"
     },
     "user_tz": 180
    },
    "id": "zKQTJdocOpgD",
    "outputId": "9a7c57f3-5fe5-4f26-bff7-e867c7e9d967"
   },
   "outputs": [
    {
     "name": "stderr",
     "output_type": "stream",
     "text": [
      "Using TensorFlow backend.\n"
     ]
    }
   ],
   "source": [
    "import pandas as pd\n",
    "\n",
    "import numpy as np\n",
    "\n",
    "import matplotlib.pyplot as plt\n",
    "\n",
    "from datetime import datetime\n",
    "\n",
    "from keras.models import Sequential\n",
    "from keras.layers.normalization import BatchNormalization\n",
    "from keras.layers.core import Dropout, Activation, Dense\n",
    "from keras.callbacks import ModelCheckpoint, TensorBoard\n",
    "from keras.optimizers import RMSprop\n",
    "\n",
    "from sklearn.model_selection import cross_val_score\n",
    "from sklearn.model_selection import KFold\n",
    "from sklearn.preprocessing import StandardScaler\n",
    "from sklearn.pipeline import Pipeline\n",
    "from sklearn.model_selection import train_test_split"
   ]
  },
  {
   "cell_type": "markdown",
   "metadata": {
    "colab_type": "text",
    "id": "b7zpB9UmW9dy"
   },
   "source": [
    "# Dataset"
   ]
  },
  {
   "cell_type": "code",
   "execution_count": 0,
   "metadata": {
    "colab": {
     "autoexec": {
      "startup": false,
      "wait_interval": 0
     }
    },
    "colab_type": "code",
    "id": "xdaqsVX5O8VO"
   },
   "outputs": [],
   "source": [
    "shops = pd.read_csv('https://drive.google.com/uc?authuser=0&id=1MaCeRxC1J1kJQqN9CdLmd36jjKuB7Tb7&export=download', encoding='UTF-8')\n",
    "items = pd.read_csv('https://drive.google.com/uc?authuser=0&id=1fqcSlFw8UT2bDh7jwYblqYQi0eNl4Kgc&export=download', encoding='UTF-8')\n",
    "itemsCategoria = pd.read_csv('https://drive.google.com/uc?authuser=0&id=1BnYi85_1DVquA89-rZfPE-XVZXaFjFWm&export=download', encoding='UTF-8')\n",
    "salesTrain = pd.read_csv('https://drive.google.com/uc?authuser=0&id=1m11i2F6J1xxaN81YtRth0sARbyZeE_oZ&export=download', encoding='UTF-8')\n",
    "test = pd.read_csv('https://drive.google.com/uc?authuser=0&id=1imHd3PoLtkOwYiV6teqXgZRfyCcH2bBd&export=download', encoding='UTF-8')"
   ]
  },
  {
   "cell_type": "markdown",
   "metadata": {
    "colab_type": "text",
    "id": "ANJj78DGXMIB"
   },
   "source": [
    "# Data cleaning"
   ]
  },
  {
   "cell_type": "code",
   "execution_count": 0,
   "metadata": {
    "colab": {
     "autoexec": {
      "startup": false,
      "wait_interval": 0
     }
    },
    "colab_type": "code",
    "id": "1FtM6tc9PU81"
   },
   "outputs": [],
   "source": [
    "dataset = salesTrain[salesTrain.item_cnt_day > 0.0]\n",
    "\n",
    "dataset = dataset[dataset.item_price > 0.0]\n",
    "\n",
    "dataset = dataset[dataset.item_cnt_day < 800]\n",
    "\n",
    "dataset = dataset[dataset.item_price < 48000]\n",
    "\n",
    "dataset = dataset[['date_block_num', 'shop_id', 'item_id', 'item_cnt_day']]\n",
    "\n",
    "dataset = dataset.groupby(['shop_id', 'date_block_num', 'item_id'], as_index=False)['item_cnt_day'].sum().rename(columns={'item_cnt_day':'item_cnt_month'})\n",
    "\n",
    "dataset['item_cnt_month'] = dataset['item_cnt_month'].clip(0, 20)\n",
    "\n",
    "dataset.sort_values(by=['date_block_num'], ascending=[False]).head(1)\n",
    "\n",
    "x_data = dataset[['shop_id', 'item_id']]\n",
    "y_data = dataset[['item_cnt_month']].fillna(0)\n",
    "\n",
    "X_train, X_test, y_train, y_test = train_test_split(x_data, y_data, test_size=0.25, random_state=42)\n"
   ]
  },
  {
   "cell_type": "markdown",
   "metadata": {
    "colab_type": "text",
    "id": "XASSUfCJXTdB"
   },
   "source": [
    "# Neural network model"
   ]
  },
  {
   "cell_type": "code",
   "execution_count": 4,
   "metadata": {
    "colab": {
     "autoexec": {
      "startup": false,
      "wait_interval": 0
     },
     "base_uri": "https://localhost:8080/",
     "height": 408
    },
    "colab_type": "code",
    "executionInfo": {
     "elapsed": 884,
     "status": "ok",
     "timestamp": 1533498407025,
     "user": {
      "displayName": "Francisco Rosa Santana",
      "photoUrl": "//lh5.googleusercontent.com/-bI8Rb32_1sU/AAAAAAAAAAI/AAAAAAAACVc/PNBc09a1AYk/s50-c-k-no/photo.jpg",
      "userId": "109858592376531758617"
     },
     "user_tz": 180
    },
    "id": "3wZ6IwmZTHcZ",
    "outputId": "c8707ff4-8110-4ef2-c694-05ad1914c949"
   },
   "outputs": [
    {
     "name": "stdout",
     "output_type": "stream",
     "text": [
      "_________________________________________________________________\n",
      "Layer (type)                 Output Shape              Param #   \n",
      "=================================================================\n",
      "dense_1 (Dense)              (None, 64)                192       \n",
      "_________________________________________________________________\n",
      "batch_normalization_1 (Batch (None, 64)                256       \n",
      "_________________________________________________________________\n",
      "dropout_1 (Dropout)          (None, 64)                0         \n",
      "_________________________________________________________________\n",
      "dense_2 (Dense)              (None, 32)                2080      \n",
      "_________________________________________________________________\n",
      "activation_1 (Activation)    (None, 32)                0         \n",
      "_________________________________________________________________\n",
      "dropout_2 (Dropout)          (None, 32)                0         \n",
      "_________________________________________________________________\n",
      "dense_3 (Dense)              (None, 1)                 33        \n",
      "_________________________________________________________________\n",
      "activation_2 (Activation)    (None, 1)                 0         \n",
      "=================================================================\n",
      "Total params: 2,561\n",
      "Trainable params: 2,433\n",
      "Non-trainable params: 128\n",
      "_________________________________________________________________\n"
     ]
    }
   ],
   "source": [
    "batch_size = 2\n",
    "nb_classes = 1\n",
    "nb_epoch = 15\n",
    "\n",
    "# create model\n",
    "model = Sequential()\n",
    "model.add(Dense(64, input_shape=X_train.shape[1:], activation='relu', kernel_initializer='normal'))\n",
    "model.add(BatchNormalization())\n",
    "model.add(Dropout(0.2))\n",
    "\n",
    "model.add(Dense(32))\n",
    "model.add(Activation('relu'))\n",
    "model.add(Dropout(0.2))\n",
    "\n",
    "model.add(Dense(nb_classes)) \n",
    "model.add(Activation('linear')) \n",
    "\n",
    "rms = RMSprop(lr=0.005)\n",
    "model.compile(optimizer=rms, loss='mean_squared_error', metrics=['accuracy'])\n",
    "\n",
    "model.summary()"
   ]
  },
  {
   "cell_type": "markdown",
   "metadata": {
    "colab_type": "text",
    "id": "I_Ood3QaXfCA"
   },
   "source": [
    "# Neural network training"
   ]
  },
  {
   "cell_type": "code",
   "execution_count": null,
   "metadata": {
    "colab": {
     "autoexec": {
      "startup": false,
      "wait_interval": 0
     },
     "base_uri": "https://localhost:8080/",
     "height": 68
    },
    "colab_type": "code",
    "id": "GQZyieFpW-sT",
    "outputId": "cb65c073-0354-48d4-b0e3-ea324cfbe854"
   },
   "outputs": [],
   "source": [
    "checkpointer = ModelCheckpoint(filepath=\"model.h5\", verbose=0, save_best_only=True, monitor='val_loss', mode='auto')\n",
    "\n",
    "history = model.fit(X_train, y_train, epochs=nb_epoch, batch_size=batch_size, shuffle=True, validation_data=(X_test, y_test), verbose=1, callbacks=[checkpointer]).history"
   ]
  },
  {
   "cell_type": "markdown",
   "metadata": {
    "colab_type": "text",
    "id": "rV-hKn3DXyOv"
   },
   "source": [
    "# Results"
   ]
  },
  {
   "cell_type": "code",
   "execution_count": null,
   "metadata": {
    "colab": {
     "autoexec": {
      "startup": false,
      "wait_interval": 0
     },
     "base_uri": "https://localhost:8080/",
     "height": 1371
    },
    "colab_type": "code",
    "executionInfo": {
     "elapsed": 16557,
     "status": "error",
     "timestamp": 1533486193051,
     "user": {
      "displayName": "Francisco Rosa Santana",
      "photoUrl": "//lh5.googleusercontent.com/-bI8Rb32_1sU/AAAAAAAAAAI/AAAAAAAACVc/PNBc09a1AYk/s50-c-k-no/photo.jpg",
      "userId": "109858592376531758617"
     },
     "user_tz": 180
    },
    "id": "TlYm9iBTYqtt",
    "outputId": "cd5da8a7-7432-4561-cd13-9cfeffcb553b"
   },
   "outputs": [],
   "source": [
    "score =  model.evaluate(X_test, y_test, verbose=0)\n",
    "\n",
    "print('Loss:', score[0])"
   ]
  }
 ],
 "metadata": {
  "accelerator": "GPU",
  "colab": {
   "collapsed_sections": [],
   "default_view": {},
   "name": "Neural Network - Predict Future Sales",
   "provenance": [],
   "version": "0.3.2",
   "views": {}
  },
  "kernelspec": {
   "display_name": "Python 3",
   "language": "python",
   "name": "python3"
  },
  "language_info": {
   "codemirror_mode": {
    "name": "ipython",
    "version": 3
   },
   "file_extension": ".py",
   "mimetype": "text/x-python",
   "name": "python",
   "nbconvert_exporter": "python",
   "pygments_lexer": "ipython3",
   "version": "3.6.4"
  }
 },
 "nbformat": 4,
 "nbformat_minor": 1
}
